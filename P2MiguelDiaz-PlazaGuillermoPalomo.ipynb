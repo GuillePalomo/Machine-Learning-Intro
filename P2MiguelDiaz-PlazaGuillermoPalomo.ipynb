{
 "cells": [
  {
   "cell_type": "markdown",
   "id": "cf130204",
   "metadata": {},
   "source": [
    "# Machine Learning con Python"
   ]
  },
  {
   "cell_type": "markdown",
   "id": "9f27d860",
   "metadata": {},
   "source": [
    "## 1. Cargamos los datos en Python"
   ]
  },
  {
   "cell_type": "code",
   "execution_count": 1,
   "id": "8cd3c9f1",
   "metadata": {},
   "outputs": [
    {
     "data": {
      "text/html": [
       "<div>\n",
       "<style scoped>\n",
       "    .dataframe tbody tr th:only-of-type {\n",
       "        vertical-align: middle;\n",
       "    }\n",
       "\n",
       "    .dataframe tbody tr th {\n",
       "        vertical-align: top;\n",
       "    }\n",
       "\n",
       "    .dataframe thead th {\n",
       "        text-align: right;\n",
       "    }\n",
       "</style>\n",
       "<table border=\"1\" class=\"dataframe\">\n",
       "  <thead>\n",
       "    <tr style=\"text-align: right;\">\n",
       "      <th></th>\n",
       "      <th>salida</th>\n",
       "      <th>apcp_sf1_1</th>\n",
       "      <th>apcp_sf2_1</th>\n",
       "      <th>apcp_sf3_1</th>\n",
       "      <th>dlwrf_s1_1</th>\n",
       "      <th>dlwrf_s4_1</th>\n",
       "      <th>dswrf_s1_1</th>\n",
       "      <th>dswrf_s2_1</th>\n",
       "      <th>dswrf_s4_1</th>\n",
       "      <th>dswrf_s5_1</th>\n",
       "      <th>...</th>\n",
       "      <th>ulwrf_s2_1</th>\n",
       "      <th>ulwrf_s4_1</th>\n",
       "      <th>uswrf_s1_1</th>\n",
       "      <th>uswrf_s2_1</th>\n",
       "      <th>uswrf_s3_1</th>\n",
       "      <th>dlwrf_s2_1</th>\n",
       "      <th>dlwrf_s3_1</th>\n",
       "      <th>dlwrf_s5_1</th>\n",
       "      <th>tmp_2m_4_1</th>\n",
       "      <th>ulwrf_t4_1</th>\n",
       "    </tr>\n",
       "  </thead>\n",
       "  <tbody>\n",
       "    <tr>\n",
       "      <th>0</th>\n",
       "      <td>10848300.0</td>\n",
       "      <td>1</td>\n",
       "      <td>1</td>\n",
       "      <td>1</td>\n",
       "      <td>2</td>\n",
       "      <td>1</td>\n",
       "      <td>1</td>\n",
       "      <td>1</td>\n",
       "      <td>2</td>\n",
       "      <td>0.0</td>\n",
       "      <td>...</td>\n",
       "      <td>328.249736</td>\n",
       "      <td>376.864962</td>\n",
       "      <td>0.000000</td>\n",
       "      <td>7.000000</td>\n",
       "      <td>45.000000</td>\n",
       "      <td>red</td>\n",
       "      <td>red</td>\n",
       "      <td>red</td>\n",
       "      <td>blue</td>\n",
       "      <td>blue</td>\n",
       "    </tr>\n",
       "    <tr>\n",
       "      <th>1</th>\n",
       "      <td>3318300.0</td>\n",
       "      <td>1</td>\n",
       "      <td>1</td>\n",
       "      <td>1</td>\n",
       "      <td>2</td>\n",
       "      <td>2</td>\n",
       "      <td>1</td>\n",
       "      <td>1</td>\n",
       "      <td>1</td>\n",
       "      <td>0.0</td>\n",
       "      <td>...</td>\n",
       "      <td>328.718309</td>\n",
       "      <td>380.017767</td>\n",
       "      <td>0.000000</td>\n",
       "      <td>2.181818</td>\n",
       "      <td>29.181818</td>\n",
       "      <td>blue</td>\n",
       "      <td>blue</td>\n",
       "      <td>blue</td>\n",
       "      <td>blue</td>\n",
       "      <td>blue</td>\n",
       "    </tr>\n",
       "    <tr>\n",
       "      <th>2</th>\n",
       "      <td>5266500.0</td>\n",
       "      <td>1</td>\n",
       "      <td>1</td>\n",
       "      <td>1</td>\n",
       "      <td>1</td>\n",
       "      <td>1</td>\n",
       "      <td>1</td>\n",
       "      <td>1</td>\n",
       "      <td>2</td>\n",
       "      <td>0.0</td>\n",
       "      <td>...</td>\n",
       "      <td>288.570143</td>\n",
       "      <td>354.793682</td>\n",
       "      <td>0.000000</td>\n",
       "      <td>8.181818</td>\n",
       "      <td>45.636364</td>\n",
       "      <td>red</td>\n",
       "      <td>red</td>\n",
       "      <td>red</td>\n",
       "      <td>red</td>\n",
       "      <td>blue</td>\n",
       "    </tr>\n",
       "    <tr>\n",
       "      <th>3</th>\n",
       "      <td>8270100.0</td>\n",
       "      <td>1</td>\n",
       "      <td>1</td>\n",
       "      <td>1</td>\n",
       "      <td>1</td>\n",
       "      <td>1</td>\n",
       "      <td>1</td>\n",
       "      <td>1</td>\n",
       "      <td>2</td>\n",
       "      <td>0.0</td>\n",
       "      <td>...</td>\n",
       "      <td>305.488836</td>\n",
       "      <td>352.025060</td>\n",
       "      <td>0.124633</td>\n",
       "      <td>5.272727</td>\n",
       "      <td>37.000000</td>\n",
       "      <td>blue</td>\n",
       "      <td>blue</td>\n",
       "      <td>red</td>\n",
       "      <td>red</td>\n",
       "      <td>blue</td>\n",
       "    </tr>\n",
       "    <tr>\n",
       "      <th>4</th>\n",
       "      <td>8009400.0</td>\n",
       "      <td>1</td>\n",
       "      <td>1</td>\n",
       "      <td>1</td>\n",
       "      <td>1</td>\n",
       "      <td>2</td>\n",
       "      <td>1</td>\n",
       "      <td>1</td>\n",
       "      <td>2</td>\n",
       "      <td>0.0</td>\n",
       "      <td>...</td>\n",
       "      <td>374.605434</td>\n",
       "      <td>374.737835</td>\n",
       "      <td>0.000000</td>\n",
       "      <td>6.454545</td>\n",
       "      <td>42.272727</td>\n",
       "      <td>red</td>\n",
       "      <td>red</td>\n",
       "      <td>blue</td>\n",
       "      <td>blue</td>\n",
       "      <td>blue</td>\n",
       "    </tr>\n",
       "  </tbody>\n",
       "</table>\n",
       "<p>5 rows × 76 columns</p>\n",
       "</div>"
      ],
      "text/plain": [
       "       salida  apcp_sf1_1  apcp_sf2_1  apcp_sf3_1  dlwrf_s1_1  dlwrf_s4_1  \\\n",
       "0  10848300.0           1           1           1           2           1   \n",
       "1   3318300.0           1           1           1           2           2   \n",
       "2   5266500.0           1           1           1           1           1   \n",
       "3   8270100.0           1           1           1           1           1   \n",
       "4   8009400.0           1           1           1           1           2   \n",
       "\n",
       "   dswrf_s1_1  dswrf_s2_1  dswrf_s4_1  dswrf_s5_1  ...  ulwrf_s2_1  \\\n",
       "0           1           1           2         0.0  ...  328.249736   \n",
       "1           1           1           1         0.0  ...  328.718309   \n",
       "2           1           1           2         0.0  ...  288.570143   \n",
       "3           1           1           2         0.0  ...  305.488836   \n",
       "4           1           1           2         0.0  ...  374.605434   \n",
       "\n",
       "   ulwrf_s4_1  uswrf_s1_1  uswrf_s2_1  uswrf_s3_1  dlwrf_s2_1  dlwrf_s3_1  \\\n",
       "0  376.864962    0.000000    7.000000   45.000000         red         red   \n",
       "1  380.017767    0.000000    2.181818   29.181818        blue        blue   \n",
       "2  354.793682    0.000000    8.181818   45.636364         red         red   \n",
       "3  352.025060    0.124633    5.272727   37.000000        blue        blue   \n",
       "4  374.737835    0.000000    6.454545   42.272727         red         red   \n",
       "\n",
       "   dlwrf_s5_1  tmp_2m_4_1  ulwrf_t4_1  \n",
       "0         red        blue        blue  \n",
       "1        blue        blue        blue  \n",
       "2         red         red        blue  \n",
       "3         red         red        blue  \n",
       "4        blue        blue        blue  \n",
       "\n",
       "[5 rows x 76 columns]"
      ]
     },
     "execution_count": 1,
     "metadata": {},
     "output_type": "execute_result"
    }
   ],
   "source": [
    "import pyarrow.feather as feather\n",
    "import pandas as pd\n",
    "import numpy as np\n",
    "disp_df = pd.read_feather(\"disp_9.feather\")\n",
    "disp_df.head()"
   ]
  },
  {
   "cell_type": "markdown",
   "id": "7848ec33",
   "metadata": {},
   "source": [
    "## 2. Aprendizaje Automático con sklearn"
   ]
  },
  {
   "cell_type": "markdown",
   "id": "f7939276",
   "metadata": {},
   "source": [
    "### 2.1 EDA"
   ]
  },
  {
   "cell_type": "code",
   "execution_count": 2,
   "id": "21c4afaf",
   "metadata": {},
   "outputs": [
    {
     "name": "stdout",
     "output_type": "stream",
     "text": [
      "The shape of the data table is:\n",
      "===============================\n",
      "(4380, 76)\n",
      "\n",
      "The types of the attributes are:\n",
      "================================\n",
      "<class 'pandas.core.frame.DataFrame'>\n",
      "RangeIndex: 4380 entries, 0 to 4379\n",
      "Data columns (total 76 columns):\n",
      " #   Column      Non-Null Count  Dtype   \n",
      "---  ------      --------------  -----   \n",
      " 0   salida      4380 non-null   float64 \n",
      " 1   apcp_sf1_1  4380 non-null   int32   \n",
      " 2   apcp_sf2_1  4380 non-null   int32   \n",
      " 3   apcp_sf3_1  4380 non-null   int32   \n",
      " 4   dlwrf_s1_1  4380 non-null   int32   \n",
      " 5   dlwrf_s4_1  4380 non-null   int32   \n",
      " 6   dswrf_s1_1  4380 non-null   int32   \n",
      " 7   dswrf_s2_1  4380 non-null   int32   \n",
      " 8   dswrf_s4_1  4380 non-null   int32   \n",
      " 9   dswrf_s5_1  4380 non-null   float64 \n",
      " 10  pres_ms1_1  4380 non-null   int32   \n",
      " 11  pres_ms2_1  4380 non-null   int32   \n",
      " 12  pres_ms3_1  4380 non-null   int32   \n",
      " 13  pres_ms4_1  4380 non-null   int32   \n",
      " 14  pwat_ea1_1  4380 non-null   float64 \n",
      " 15  pwat_ea2_1  4380 non-null   int32   \n",
      " 16  pwat_ea3_1  4380 non-null   float64 \n",
      " 17  pwat_ea4_1  4380 non-null   int32   \n",
      " 18  pwat_ea5_1  4380 non-null   int32   \n",
      " 19  spfh_2m1_1  4380 non-null   int32   \n",
      " 20  spfh_2m3_1  4380 non-null   int32   \n",
      " 21  spfh_2m4_1  4380 non-null   float64 \n",
      " 22  spfh_2m5_1  4380 non-null   int32   \n",
      " 23  tcdc_ea1_1  4380 non-null   float64 \n",
      " 24  tcdc_ea3_1  4380 non-null   category\n",
      " 25  tcdc_ea5_1  4380 non-null   int32   \n",
      " 26  tcolc_e1_1  4380 non-null   category\n",
      " 27  tcolc_e2_1  4380 non-null   int32   \n",
      " 28  tcolc_e3_1  4380 non-null   int32   \n",
      " 29  tcolc_e5_1  4380 non-null   float64 \n",
      " 30  tmax_2m1_1  4380 non-null   int32   \n",
      " 31  tmax_2m2_1  4380 non-null   int32   \n",
      " 32  tmax_2m4_1  4380 non-null   int32   \n",
      " 33  tmax_2m5_1  4380 non-null   int32   \n",
      " 34  tmin_2m2_1  4380 non-null   int32   \n",
      " 35  tmin_2m3_1  4380 non-null   int32   \n",
      " 36  tmin_2m4_1  4380 non-null   category\n",
      " 37  tmin_2m5_1  4380 non-null   int32   \n",
      " 38  tmp_2m_1_1  4380 non-null   int32   \n",
      " 39  tmp_2m_2_1  4380 non-null   int32   \n",
      " 40  tmp_2m_3_1  4380 non-null   int32   \n",
      " 41  tmp_sfc1_1  4380 non-null   float64 \n",
      " 42  tmp_sfc2_1  4380 non-null   int32   \n",
      " 43  tmp_sfc3_1  4380 non-null   int32   \n",
      " 44  tmp_sfc4_1  4380 non-null   int32   \n",
      " 45  tmp_sfc5_1  4380 non-null   int32   \n",
      " 46  ulwrf_s1_1  4380 non-null   int32   \n",
      " 47  ulwrf_s3_1  4380 non-null   int32   \n",
      " 48  ulwrf_s5_1  4380 non-null   int32   \n",
      " 49  ulwrf_t1_1  4380 non-null   int32   \n",
      " 50  ulwrf_t2_1  4380 non-null   int32   \n",
      " 51  ulwrf_t3_1  4380 non-null   category\n",
      " 52  ulwrf_t5_1  4380 non-null   int32   \n",
      " 53  uswrf_s4_1  4380 non-null   int32   \n",
      " 54  uswrf_s5_1  4380 non-null   int32   \n",
      " 55  apcp_sf4_1  4380 non-null   float64 \n",
      " 56  apcp_sf5_1  4380 non-null   float64 \n",
      " 57  dswrf_s3_1  4380 non-null   float64 \n",
      " 58  pres_ms5_1  4380 non-null   float64 \n",
      " 59  spfh_2m2_1  4380 non-null   float64 \n",
      " 60  tcdc_ea2_1  4380 non-null   float64 \n",
      " 61  tcdc_ea4_1  4380 non-null   float64 \n",
      " 62  tcolc_e4_1  4380 non-null   float64 \n",
      " 63  tmax_2m3_1  4380 non-null   float64 \n",
      " 64  tmin_2m1_1  4380 non-null   float64 \n",
      " 65  tmp_2m_5_1  4380 non-null   float64 \n",
      " 66  ulwrf_s2_1  4380 non-null   float64 \n",
      " 67  ulwrf_s4_1  4380 non-null   float64 \n",
      " 68  uswrf_s1_1  4380 non-null   float64 \n",
      " 69  uswrf_s2_1  4380 non-null   float64 \n",
      " 70  uswrf_s3_1  4380 non-null   float64 \n",
      " 71  dlwrf_s2_1  4380 non-null   category\n",
      " 72  dlwrf_s3_1  4380 non-null   category\n",
      " 73  dlwrf_s5_1  4380 non-null   category\n",
      " 74  tmp_2m_4_1  4380 non-null   category\n",
      " 75  ulwrf_t4_1  4380 non-null   category\n",
      "dtypes: category(9), float64(24), int32(43)\n",
      "memory usage: 1.6 MB\n",
      "\n",
      "Fraction of missing values per attribute:\n",
      "======================================\n",
      "salida        0.0\n",
      "apcp_sf1_1    0.0\n",
      "apcp_sf2_1    0.0\n",
      "apcp_sf3_1    0.0\n",
      "dlwrf_s1_1    0.0\n",
      "             ... \n",
      "dlwrf_s2_1    0.0\n",
      "dlwrf_s3_1    0.0\n",
      "dlwrf_s5_1    0.0\n",
      "tmp_2m_4_1    0.0\n",
      "ulwrf_t4_1    0.0\n",
      "Length: 76, dtype: float64\n"
     ]
    }
   ],
   "source": [
    "print('The shape of the data table is:')\n",
    "print('===============================')\n",
    "print(disp_df.shape)\n",
    "print()\n",
    "\n",
    "print('The types of the attributes are:')\n",
    "print('================================')\n",
    "disp_df.info()\n",
    "\n",
    "print()\n",
    "\n",
    "print('Fraction of missing values per attribute:')\n",
    "print('======================================')\n",
    "print(disp_df.isnull().mean())"
   ]
  },
  {
   "cell_type": "markdown",
   "id": "baf9e79e",
   "metadata": {},
   "source": [
    "Como podemos observar, hay 9 variables categóricas de las 75 variables que hay. Y comprobamos que tampoco hay missing values."
   ]
  },
  {
   "cell_type": "markdown",
   "id": "3006aed6",
   "metadata": {},
   "source": [
    "### 2.2 Matrices y creación de dummies"
   ]
  },
  {
   "cell_type": "code",
   "execution_count": 19,
   "id": "75b573e3",
   "metadata": {
    "scrolled": true
   },
   "outputs": [
    {
     "name": "stdout",
     "output_type": "stream",
     "text": [
      "(4380, 93)\n",
      "\n",
      "<class 'numpy.ndarray'>\n",
      "\n",
      "[[ 0.          0.          1.         ...  0.          7.\n",
      "  45.        ]\n",
      " [ 0.          0.          1.         ...  0.          2.18181818\n",
      "  29.18181818]\n",
      " [ 0.          0.          1.         ...  0.          8.18181818\n",
      "  45.63636364]\n",
      " ...\n",
      " [ 0.          0.          1.         ...  0.          6.27272727\n",
      "  76.78435629]\n",
      " [ 0.          0.          1.         ...  0.          7.72727273\n",
      "  47.45454545]\n",
      " [ 0.          0.          1.         ...  0.          6.63636364\n",
      "  43.72727273]]\n"
     ]
    }
   ],
   "source": [
    "y = disp_df['salida'].values\n",
    "\n",
    "\n",
    "X_df = disp_df.drop('salida', axis=1)\n",
    "\n",
    "\n",
    "from sklearn.preprocessing import OneHotEncoder\n",
    "from sklearn.compose import ColumnTransformer\n",
    "from sklearn.compose import make_column_selector as selector\n",
    "\n",
    "preprocessor = ColumnTransformer(\n",
    "    transformers = [ \n",
    "                    ('categorical', OneHotEncoder(handle_unknown='ignore'),  selector(dtype_include=\"category\"))\n",
    "                    ], \n",
    "                    remainder='passthrough' \n",
    ")\n",
    "\n",
    "preprocessor.fit(X_df)\n",
    "X = preprocessor.transform(X_df)\n",
    "\n",
    "print(X.shape)\n",
    "print()\n",
    "\n",
    "print(type(X))\n",
    "print()\n",
    "\n",
    "print(X)"
   ]
  },
  {
   "cell_type": "markdown",
   "id": "5e861214",
   "metadata": {},
   "source": [
    "Hemos usado ColumnTransformer para crear dummies con las 9 variables categóricas que quedaban. Podemos ver como ahora disponemos de 93 variables, de las cuales 27 son dummies y las 63 restantes que no son categóricas.\n",
    "Además, previamente hemos creado la matriz 'X' con los predictores y la matriz 'y' con la variable respuesta 'salida', ya que sklearn no sabe trabajar con data.frames."
   ]
  },
  {
   "cell_type": "markdown",
   "id": "ea7d6799",
   "metadata": {},
   "source": [
    "### 2.3 Árbol de regresión"
   ]
  },
  {
   "cell_type": "code",
   "execution_count": 26,
   "id": "7aff60ad",
   "metadata": {},
   "outputs": [
    {
     "name": "stdout",
     "output_type": "stream",
     "text": [
      "MAE of the tree: 3532477.970749543\n"
     ]
    }
   ],
   "source": [
    "from sklearn import metrics\n",
    "from sklearn import tree\n",
    "\n",
    "\n",
    "X_train = X[0:(6*365-1),:]\n",
    "X_test = X[(6*365):(9*365-1),:]\n",
    "y_train = y[0:(6*365-1)]\n",
    "y_test = y[(6*365):(9*365-1)]\n",
    "\n",
    "\n",
    "regr = tree.DecisionTreeRegressor()\n",
    "np.random.seed(100430523) \n",
    "\n",
    "regr.fit(X_train, y_train)\n",
    "\n",
    "y_test_pred = regr.predict(X_test)\n",
    "\n",
    "mae_validation_tree = metrics.mean_absolute_error(y_test, y_test_pred)\n",
    "print(f\"MAE of the tree: {mae_validation_tree}\")"
   ]
  },
  {
   "cell_type": "markdown",
   "id": "05a3d846",
   "metadata": {},
   "source": [
    "Para la muestra de entrenamiento, vamos a usar tal y como usamos en las otras prácticas, los 6 primeros años; y para la muestra test o de validation, los 3 años siguientes.\n",
    "Por tanto, el MAE (metric.mean_absolute_error) del árbol de regresión es de 3532477.97."
   ]
  },
  {
   "cell_type": "markdown",
   "id": "f0d89757",
   "metadata": {},
   "source": [
    "### 2.4 KNN"
   ]
  },
  {
   "cell_type": "code",
   "execution_count": 27,
   "id": "1c55c5e1",
   "metadata": {},
   "outputs": [
    {
     "name": "stdout",
     "output_type": "stream",
     "text": [
      "MAE of KNN with default hyper-pars: 3009033.5356489946\n"
     ]
    }
   ],
   "source": [
    "from sklearn.neighbors import KNeighborsRegressor as KNN\n",
    "from sklearn.preprocessing import StandardScaler\n",
    "from sklearn.pipeline import Pipeline\n",
    "\n",
    "scaler = StandardScaler()\n",
    "knn = KNN()\n",
    "\n",
    "pipe_regr = Pipeline([\n",
    "    ('scale', scaler),\n",
    "    ('KNN', knn)])\n",
    "\n",
    "np.random.seed(100430523)\n",
    "pipe_regr.fit(X=X_train, y=y_train)\n",
    "mae_validation_knn = metrics.mean_absolute_error(y_test, pipe_regr.predict(X=X_test))\n",
    "print(f\"MAE of KNN with default hyper-pars: {mae_validation_knn}\")\n"
   ]
  },
  {
   "cell_type": "markdown",
   "id": "84993419",
   "metadata": {},
   "source": [
    "Para aplicar el método KNN, hemos tenido que escalar los datos.\n",
    "El MAE (metric.mean_absolute_error) de KNN sin ajuste de hiper-parámetros es de 3009033.53, algo menor que el del árbol de regresión."
   ]
  },
  {
   "cell_type": "markdown",
   "id": "4838b004",
   "metadata": {},
   "source": [
    "### 2.5 COMPARACIÓN DE RAE (sklearn VS mlr3)"
   ]
  },
  {
   "cell_type": "code",
   "execution_count": 28,
   "id": "a99827d8",
   "metadata": {},
   "outputs": [
    {
     "name": "stdout",
     "output_type": "stream",
     "text": [
      "RAE of the tree: 0.5287467549910644\n",
      "RAE of the Knn: 0.45039678401620814\n"
     ]
    }
   ],
   "source": [
    "mae_validation_dummy = np.mean(np.abs(y_test-y_train.mean()))\n",
    "rae_validation_tree = mae_validation_tree / mae_validation_dummy\n",
    "print(f\"RAE of the tree: {rae_validation_tree}\")\n",
    "\n",
    "rae_validation_knn = mae_validation_knn / mae_validation_dummy\n",
    "print(f\"RAE of the Knn: {rae_validation_knn}\")"
   ]
  },
  {
   "cell_type": "markdown",
   "id": "03f51e69",
   "metadata": {},
   "source": [
    "A partir del MAE del modelo entre el MAE de un modelo trivial, en este caso hemos usado la media, se calcula el RAE (Relative Absolute Error).\n",
    "\n",
    "**El RAE del árbol de regresión es: 0.5287**\n",
    "\n",
    "**El RAE de KNN con ajuste de hiper-parámetros es: 0.4503**\n",
    "\n",
    "Comparando los RAE que nos salen en esta práctica con sklearn y los que nos salían con mlr3, observamos claramente que los obtenidos con **sklearn** son un poco más altos respecto a todos los de mlr3 que se hallaban más cerca del 0.4. Esto tiene sentido debido a que en mlr3 escogimos los métodos de imputación y escalado óptimos para nuestros datos y esta vez hemos cogido unos diferentes."
   ]
  }
 ],
 "metadata": {
  "kernelspec": {
   "display_name": "Python 3 (ipykernel)",
   "language": "python",
   "name": "python3"
  },
  "language_info": {
   "codemirror_mode": {
    "name": "ipython",
    "version": 3
   },
   "file_extension": ".py",
   "mimetype": "text/x-python",
   "name": "python",
   "nbconvert_exporter": "python",
   "pygments_lexer": "ipython3",
   "version": "3.9.13"
  }
 },
 "nbformat": 4,
 "nbformat_minor": 5
}
